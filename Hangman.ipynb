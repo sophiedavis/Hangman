{
 "cells": [
  {
   "cell_type": "code",
   "execution_count": 3,
   "metadata": {},
   "outputs": [],
   "source": [
    "movies = [\n",
    "    \"Alice in Wonderland\",\"Waking Sleeping Beauty\",\"Oceans\",\"Prince of Persia: The Sands of Time\",\"Toy Story 3\",\n",
    "    \"The Sorcerer's Apprentice\",\"The Crimson Wing: Mystery of the Flamingos\",\"Secretariat\",\"Do Dooni Chaar\",\n",
    "    \"Tangled\",\"The Boys: The Sherman Brothers' Story\",\"Tron: Legacy\",\"Anaganaga O Dheerudu\",\n",
    "    \"Lilly the Witch: The Journey to Mandolan\",\"Mars Needs Moms\",\"Zokkomon\",\"African Cats\",\"Prom\",\n",
    "    \"Pirates of the Caribbean: On Stranger Tides\",\"Cars 2\",\"Winnie the Pooh\",\"The Muppets\",\"John Carter\",\n",
    "    \"Chimpanzee\",\"Arjun: The Warrior Prince\",\"Brave\",\"The Odd Life of Timothy Green\",\"Frankenweenie\",\"Wreck-It Ralph\",\n",
    "    \"Oz the Great and Powerful\",\"Wings of Life\",\"Monsters University\",\"The Lone Ranger\",\"Planes\",\"Frozen\",\n",
    "    \"Saving Mr. Banks\",\"Muppets Most Wanted\",\"Bears\",\"Million Dollar Arm\",\"Maleficent\",\"Planes: Fire & Rescue\",\n",
    "    \"Khoobsurat\",\"Big Hero 6\",\"Into the Woods\",\"Cinderella\",\"Monkey Kingdom\",\"Tomorrowland\",\"Inside Out\",\"ABCD 2\",\n",
    "    \"The Good Dinosaur\",\"The Finest Hours\",\"Zootopia\",\"The Jungle Book\",\"Tini: The Movie\",\n",
    "    \"Alice Through the Looking Glass\",\"Finding Dory\",\"The BFG\",\"Pete's Dragon\",\"Queen of Katwe\",\"Moana\",\n",
    "    \"Growing Up Wild\",\"Dangal\",\"L'Empereur - March of the Penguins 2: The Next Step\",\"Beauty and the Beast\",\n",
    "    \"Born in China\",\"Pirates of the Caribbean: Dead Men Tell No Tales\",\"Cars 3\",\"Ghost of the Mountains\",\n",
    "    \"Jagga Jasoos\",\"Coco\",\"Expedition China\",\"A Wrinkle in Time\",\"Incredibles 2\",\"Christopher Robin\",\n",
    "    \"The Nutcracker and the Four Realms\",\"Ralph Breaks the Internet\",\"Mary Poppins Returns\",\"Dumbo\",\"Penguins\",\n",
    "    \"Aladdin\",\"Toy Story 4\",\"The Lion King\",\"Maleficent: Mistress of Evil\",\"Lady and the Tramp\",\"Noelle\",\n",
    "    \"Frozen II\",\"One Day at Disney\",\"Togo\"]"
   ]
  },
  {
   "cell_type": "code",
   "execution_count": null,
   "metadata": {},
   "outputs": [
    {
     "name": "stdout",
     "output_type": "stream",
     "text": [
      "_ _ _ _ _ _ _ _    ( Lives:  ********** )\n"
     ]
    }
   ],
   "source": [
    "import random\n",
    "\n",
    "# Initalisation\n",
    "secret_phrase = random.choice(movies)\n",
    "avalible_letters = [\"a\",\"b\",\"c\",\"d\",\"e\",\"f\",\"g\",\"h\",\"i\",\"j\",\"k\",\"l\",\"m\",\n",
    "                    \"n\",\"o\",\"p\",\"q\",\"r\",\"s\",\"t\",\"u\",\"v\",\"w\",\"x\",\"y\",\"z\"]\n",
    "guessed_letters = [\" \"]\n",
    "remaining_lives = 10\n",
    "win = False\n",
    "user_input = None\n",
    "\n",
    "# Loop game while user has not won and still has avaliable lives\n",
    "while win == False and remaining_lives > 0:\n",
    "\n",
    "    # Get user input\n",
    "    if user_input == None:\n",
    "        user_input = \"\"\n",
    "    else:\n",
    "        while not user_input in avalible_letters:\n",
    "            user_input = input(\"enter letter guess: \").lower()\n",
    "            \n",
    "        # Update guess lists\n",
    "        avalible_letters.remove(user_input)\n",
    "        guessed_letters.append(user_input)\n",
    "\n",
    "\n",
    "    # Prepairing board\n",
    "    output = []\n",
    "    for letter in secret_phrase:\n",
    "        if letter.lower() in avalible_letters:\n",
    "            output.append(\"_\")\n",
    "        else:\n",
    "            output.append(letter)\n",
    "\n",
    "    # Print board\n",
    "    print(\" \".join(output), \"   ( Lives: \", \"*\" * remaining_lives, \")\")\n",
    "    \n",
    "    # Check for win\n",
    "    if not \"_\" in output:\n",
    "        win = True\n",
    "        print(\"Whoo! you won.\")\n",
    "    \n",
    "    # Check current guess\n",
    "    if not guessed_letters[-1] in secret_phrase:\n",
    "        remaining_lives = remaining_lives - 1\n",
    "        if remaining_lives == 0:\n",
    "            print(\"sorry, you lost! answer: \", secret_phrase)"
   ]
  },
  {
   "cell_type": "code",
   "execution_count": null,
   "metadata": {},
   "outputs": [],
   "source": []
  }
 ],
 "metadata": {
  "kernelspec": {
   "display_name": "Python 3",
   "language": "python",
   "name": "python3"
  },
  "language_info": {
   "codemirror_mode": {
    "name": "ipython",
    "version": 3
   },
   "file_extension": ".py",
   "mimetype": "text/x-python",
   "name": "python",
   "nbconvert_exporter": "python",
   "pygments_lexer": "ipython3",
   "version": "3.7.6"
  }
 },
 "nbformat": 4,
 "nbformat_minor": 4
}
